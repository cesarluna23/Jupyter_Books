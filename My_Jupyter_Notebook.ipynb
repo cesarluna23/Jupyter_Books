{
 "cells": [
  {
   "cell_type": "markdown",
   "metadata": {},
   "source": [
    "# My Jupyter Notebook on IMB Watson Studio"
   ]
  },
  {
   "cell_type": "markdown",
   "metadata": {},
   "source": [
    "**César Luna**<br>\n",
    "Data Scientist"
   ]
  },
  {
   "cell_type": "markdown",
   "metadata": {},
   "source": [
    "*I am interested in data science because it can be used to improve industrial production processes.*\n"
   ]
  },
  {
   "cell_type": "markdown",
   "metadata": {},
   "source": [
    "### Following code just prints a hello world message"
   ]
  },
  {
   "cell_type": "code",
   "execution_count": 1,
   "metadata": {},
   "outputs": [
    {
     "name": "stdout",
     "output_type": "stream",
     "text": [
      "Hello world!\n"
     ]
    }
   ],
   "source": [
    "print(\"Hello world!\")"
   ]
  },
  {
   "cell_type": "markdown",
   "metadata": {},
   "source": [
    "---\n",
    "* first item\n",
    "* second item\n",
    "* third item\n",
    "\n",
    "1. item one\n",
    "2. item two\n",
    "3. item three\n",
    "4. ~~item four~~\n",
    "5. ~~item five~~\n",
    "---\n",
    "> Table Example\n",
    "\n",
    "| Items | Column 2 | Column 3 |\n",
    "| -------- |----------| ---------|\n",
    "| 1 | Cell 2 | Cell 3 |\n",
    "| 2 | Cell 2 | Cell 3 |\n",
    "| 3 | Cell 2 | Cell 3 |"
   ]
  }
 ],
 "metadata": {
  "kernelspec": {
   "display_name": "Python 3 (ipykernel)",
   "language": "python",
   "name": "python3"
  },
  "language_info": {
   "codemirror_mode": {
    "name": "ipython",
    "version": 3
   },
   "file_extension": ".py",
   "mimetype": "text/x-python",
   "name": "python",
   "nbconvert_exporter": "python",
   "pygments_lexer": "ipython3",
   "version": "3.8.9"
  }
 },
 "nbformat": 4,
 "nbformat_minor": 4
}
