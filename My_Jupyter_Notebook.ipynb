{
  "metadata": {
    "kernelspec": {
      "name": "python",
      "display_name": "Pyolite",
      "language": "python"
    },
    "language_info": {
      "codemirror_mode": {
        "name": "python",
        "version": 3
      },
      "file_extension": ".py",
      "mimetype": "text/x-python",
      "name": "python",
      "nbconvert_exporter": "python",
      "pygments_lexer": "ipython3",
      "version": "3.8"
    }
  },
  "nbformat_minor": 4,
  "nbformat": 4,
  "cells": [
    {
      "cell_type": "markdown",
      "source": "<center>\n    <img src=\"https://s3-api.us-geo.objectstorage.softlayer.net/cf-courses-data/CognitiveClass/Logos/organization_logo/organization_logo.png\" width=\"300\" alt=\"cognitiveclass.ai logo\"  />\n</center>\n",
      "metadata": {}
    },
    {
      "cell_type": "markdown",
      "source": "#### Add your code below following the instructions given in the course\n",
      "metadata": {}
    },
    {
      "cell_type": "markdown",
      "source": "# My Jupyter Notebook on IMB Watson Studio",
      "metadata": {}
    },
    {
      "cell_type": "markdown",
      "source": "**César Luna**<br>\nData Scientist",
      "metadata": {}
    },
    {
      "cell_type": "markdown",
      "source": "*I am interested in data science because it can be used to improve industrial production processes.*\n",
      "metadata": {}
    },
    {
      "cell_type": "markdown",
      "source": "### Following code just prints a hello world message",
      "metadata": {}
    },
    {
      "cell_type": "code",
      "source": "print(\"Hello world!\")",
      "metadata": {
        "trusted": true
      },
      "execution_count": 1,
      "outputs": [
        {
          "name": "stdout",
          "text": "Hello world!\n",
          "output_type": "stream"
        }
      ]
    },
    {
      "cell_type": "markdown",
      "source": "---\n* first item\n* second item\n* third item\n\n1. item one\n2. item two\n3. item three\n4. ~~item four~~\n5. ~~item five~~\n---\n> Table Example\n\n| Items | Column 2 | Column 3 |\n| -------- |----------| ---------|\n| 1 | Cell 2 | Cell 3 |\n| 2 | Cell 2 | Cell 3 |\n| 3 | Cell 2 | Cell 3 |",
      "metadata": {}
    }
  ]
}